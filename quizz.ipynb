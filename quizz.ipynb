{
 "cells": [
  {
   "cell_type": "code",
   "execution_count": null,
   "metadata": {},
   "outputs": [
    {
     "name": "stdout",
     "output_type": "stream",
     "text": [
      "Welcome to our quiz! \n",
      "You have 3 lives to answer 3 questions.\n",
      "\n"
     ]
    },
    {
     "name": "stdout",
     "output_type": "stream",
     "text": [
      "Your answer: doald trump\n",
      "Wrong answer. You have 2 lives left.\n",
      "Your answer: bruxelles\n",
      "Good job! That was the right answer.\n",
      "Your answer: jedha\n",
      "Good job! That was the right answer.\n",
      "Your answer: donald trump\n",
      "Good job! That was the right answer.\n",
      "Success! You answered all the questions correctly!\n"
     ]
    }
   ],
   "source": [
    "\n",
    "questions = [\n",
    "    {\"question\": \"Who is the president of the USA?\", \"answer\": \"Donald Trump\"},\n",
    "    {\"question\": \"What's the capital of Belgium?\", \"answer\": \"Bruxelles\"},\n",
    "    {\"question\": \"What's the name of your organisation?\", \"answer\": \"Jedha\"}\n",
    "]\n",
    "\n",
    "class Quizz():\n",
    "    def __init__(self, questions, total_tries=3):\n",
    "        self.questions = questions  \n",
    "        self.total_tries = total_tries \n",
    "        self.success = 0  \n",
    "        self.remaining_questions = questions.copy()  \n",
    "\n",
    "    def ask_question(self, question, correct_answer):\n",
    "        user_answer = input(question + \" \").strip()\n",
    "        if user_answer.lower() == correct_answer.lower():\n",
    "            print(f\"Your answer: {user_answer}\")\n",
    "            print(\"Good job! That was the right answer.\")\n",
    "            self.success += 1\n",
    "            return True\n",
    "        else:\n",
    "            self.total_tries -= 1\n",
    "            print(f\"Your answer: {user_answer}\")\n",
    "            print(f\"Wrong answer. You have {self.total_tries} lives left.\")\n",
    "            return False\n",
    "\n",
    "    def play(self):\n",
    "        print(f\"Welcome to our quiz! \\nYou have {self.total_tries} lives to answer {len(self.questions)} questions.\\n\")\n",
    "        while self.total_tries > 0 and self.remaining_questions:\n",
    "            failed_questions = []\n",
    "            for question_data in self.remaining_questions:\n",
    "                if self.total_tries == 0:\n",
    "                    break\n",
    "                success = self.ask_question(\n",
    "                    question_data[\"question\"], question_data[\"answer\"]\n",
    "                )\n",
    "                if not success:\n",
    "                    failed_questions.append(question_data)\n",
    "            self.remaining_questions = failed_questions\n",
    "        self.show_result()\n",
    "\n",
    "    def show_result(self):\n",
    "        if self.total_tries == 0 and self.remaining_questions:\n",
    "            print(\"Too bad, you lost the game!\")\n",
    "        elif not self.remaining_questions:\n",
    "            print(\"Success! You answered all the questions correctly!\")\n",
    "\n",
    "quiz = Quizz(questions)\n",
    "quiz.play()\n"
   ]
  }
 ],
 "metadata": {
  "kernelspec": {
   "display_name": "base",
   "language": "python",
   "name": "python3"
  },
  "language_info": {
   "codemirror_mode": {
    "name": "ipython",
    "version": 3
   },
   "file_extension": ".py",
   "mimetype": "text/x-python",
   "name": "python",
   "nbconvert_exporter": "python",
   "pygments_lexer": "ipython3",
   "version": "3.12.4"
  }
 },
 "nbformat": 4,
 "nbformat_minor": 2
}
